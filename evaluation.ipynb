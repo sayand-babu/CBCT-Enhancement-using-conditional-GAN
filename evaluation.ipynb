{
 "cells": [
  {
   "cell_type": "code",
   "execution_count": 1,
   "id": "1342537a",
   "metadata": {},
   "outputs": [],
   "source": [
    "import os\n",
    "import numpy as np\n",
    "import torch\n",
    "import nibabel as nib\n",
    "import pandas as pd\n",
    "from skimage.metrics import structural_similarity as ssim\n",
    "from skimage.metrics import peak_signal_noise_ratio as psnr\n",
    "from tqdm import tqdm\n",
    "import matplotlib.pyplot as plt\n",
    "import re "
   ]
  },
  {
   "cell_type": "code",
   "execution_count": 2,
   "id": "4a55a544",
   "metadata": {},
   "outputs": [],
   "source": [
    "\n",
    "\n",
    "def load_nifti(path):\n",
    "    return nib.load(path).get_fdata().astype(np.float32)\n",
    "\n",
    "def normalize(img):\n",
    "    img = img - np.min(img)\n",
    "    if np.max(img) > 0:\n",
    "        img = img / np.max(img)\n",
    "    return img\n",
    "\n",
    "def compute_3d_metrics(real, fake):\n",
    "    real = normalize(real)\n",
    "    fake = normalize(fake)\n",
    "\n",
    "    ssim_val = ssim(real, fake, data_range=1.0)\n",
    "    psnr_val = psnr(real, fake, data_range=1.0)\n",
    "    mae = np.mean(np.abs(real - fake))\n",
    "    mse = np.mean((real - fake) ** 2)\n",
    "\n",
    "    return {\n",
    "        'SSIM': round(ssim_val, 4),\n",
    "        'PSNR': round(psnr_val, 2),\n",
    "        'MAE': round(mae, 5),\n",
    "        'MSE': round(mse, 5)\n",
    "    }\n",
    "\n",
    "def save_metrics_to_excel(results, output_path='similarity_metrics.xlsx'):\n",
    "    df = pd.DataFrame.from_dict(results, orient='index')\n",
    "    df.index.name = 'Sample ID'\n",
    "    df.reset_index(inplace=True)\n",
    "    df.to_excel(output_path, index=False)\n",
    "    print(f\"\\n✅ Saved metrics to Excel: {output_path}\")\n",
    "    return df  # return the dataframe for plotting\n",
    "\n"
   ]
  },
  {
   "cell_type": "code",
   "execution_count": 3,
   "id": "e5dbb56e",
   "metadata": {},
   "outputs": [],
   "source": [
    "def crop_or_pad_to_match_3d(real, target_shape):\n",
    "    \"\"\"\n",
    "    Adjust the 3D `real` volume to match `target_shape` using symmetric padding and center cropping.\n",
    "    All volumes are assumed to be 3D: (D, H, W)\n",
    "    \"\"\"\n",
    "    cd, ch, cw = target_shape\n",
    "    d, h, w = real.shape\n",
    "\n",
    "    # Padding if real image is smaller\n",
    "    pad_d = max(cd - d, 0)\n",
    "    pad_h = max(ch - h, 0)\n",
    "    pad_w = max(cw - w, 0)\n",
    "\n",
    "    pad_width = (\n",
    "        (pad_d // 2, pad_d - pad_d // 2),\n",
    "        (pad_h // 2, pad_h - pad_h // 2),\n",
    "        (pad_w // 2, pad_w - pad_w // 2),\n",
    "    )\n",
    "\n",
    "    if pad_d > 0 or pad_h > 0 or pad_w > 0:\n",
    "        real = np.pad(real, pad_width, mode='constant', constant_values=0)\n",
    "\n",
    "    # Crop center if real image is larger\n",
    "    d, h, w = real.shape\n",
    "    start_d = (d - cd) // 2\n",
    "    start_h = (h - ch) // 2\n",
    "    start_w = (w - cw) // 2\n",
    "\n",
    "    end_d = start_d + cd\n",
    "    end_h = start_h + ch\n",
    "    end_w = start_w + cw\n",
    "\n",
    "    return real[start_d:end_d, start_h:end_h, start_w:end_w]\n"
   ]
  },
  {
   "cell_type": "code",
   "execution_count": 4,
   "id": "147e3571",
   "metadata": {},
   "outputs": [],
   "source": [
    "def get_files_by_creation_order(directory, extensions=('.nii', '.nii.gz')):\n",
    "    files = [\n",
    "        f for f in os.listdir(directory)\n",
    "        if f.endswith(extensions)\n",
    "    ]\n",
    "    # Sort by creation time (earliest first)\n",
    "    files.sort(key=lambda x: os.path.getctime(os.path.join(directory, x)))\n",
    "    return files"
   ]
  },
  {
   "cell_type": "code",
   "execution_count": 5,
   "id": "e22bbb10",
   "metadata": {},
   "outputs": [],
   "source": [
    "import os\n",
    "import nibabel as nib\n",
    "import numpy as np\n",
    "from tqdm import tqdm\n",
    "\n",
    "def load_nifti(path):\n",
    "    return nib.load(path).get_fdata()\n",
    "import os\n",
    "from tqdm import tqdm\n",
    "\n",
    "def evaluate_all(fake_dir, real_dir):\n",
    "    results = {}\n",
    "    fake_files = sorted([f for f in os.listdir(fake_dir) if f.endswith('.nii')])\n",
    "\n",
    "    for fake_file in tqdm(fake_files, desc=\"Evaluating\"):\n",
    "        # Extract index as the part before the first underscore\n",
    "        index = os.path.splitext(fake_file)[0].split('_')[0]\n",
    "        real_file = f\"test-volume-{index}.nii\"\n",
    "\n",
    "        fake_path = os.path.join(fake_dir, fake_file)\n",
    "        real_path = os.path.join(real_dir, real_file)\n",
    "\n",
    "        print(f\"Comparing fake: {fake_file}  <-->  real: {real_file}\")\n",
    "\n",
    "        if not os.path.exists(real_path):\n",
    "            print(f\"⚠️ Real file not found for {fake_file}\")\n",
    "            continue\n",
    "\n",
    "        try:\n",
    "            fake_img = load_nifti(fake_path)\n",
    "            real_img = load_nifti(real_path)\n",
    "\n",
    "            if fake_img.shape != real_img.shape:\n",
    "                try:\n",
    "                    real_img = crop_or_pad_to_match_3d(real_img, fake_img.shape)\n",
    "                except Exception as e:\n",
    "                    print(f\"❌ Could not crop/pad real image for {fake_file}: {e}\")\n",
    "                    continue\n",
    "\n",
    "            metrics = compute_3d_metrics(real_img, fake_img)\n",
    "            results[fake_file] = metrics\n",
    "\n",
    "        except Exception as e:\n",
    "            print(f\"❌ Error processing {fake_file}: {e}\")\n",
    "\n",
    "    return results\n"
   ]
  },
  {
   "cell_type": "code",
   "execution_count": 6,
   "id": "6a7478af",
   "metadata": {},
   "outputs": [
    {
     "name": "stderr",
     "output_type": "stream",
     "text": [
      "\r",
      "Evaluating:   0%|                                        | 0/70 [00:00<?, ?it/s]"
     ]
    },
    {
     "name": "stdout",
     "output_type": "stream",
     "text": [
      "Comparing fake: 0_1.nii  <-->  real: test-volume-0.nii\n"
     ]
    },
    {
     "name": "stderr",
     "output_type": "stream",
     "text": [
      "\r",
      "Evaluating:   1%|▍                               | 1/70 [00:05<06:07,  5.33s/it]"
     ]
    },
    {
     "name": "stdout",
     "output_type": "stream",
     "text": [
      "Comparing fake: 10_1.nii  <-->  real: test-volume-10.nii\n"
     ]
    },
    {
     "name": "stderr",
     "output_type": "stream",
     "text": [
      "\r",
      "Evaluating:   3%|▉                               | 2/70 [00:09<04:57,  4.37s/it]"
     ]
    },
    {
     "name": "stdout",
     "output_type": "stream",
     "text": [
      "Comparing fake: 11_1.nii  <-->  real: test-volume-11.nii\n"
     ]
    },
    {
     "name": "stderr",
     "output_type": "stream",
     "text": [
      "\r",
      "Evaluating:   4%|█▎                              | 3/70 [00:12<04:29,  4.02s/it]"
     ]
    },
    {
     "name": "stdout",
     "output_type": "stream",
     "text": [
      "Comparing fake: 12_1.nii  <-->  real: test-volume-12.nii\n"
     ]
    },
    {
     "name": "stderr",
     "output_type": "stream",
     "text": [
      "\r",
      "Evaluating:   6%|█▊                              | 4/70 [00:16<04:12,  3.82s/it]"
     ]
    },
    {
     "name": "stdout",
     "output_type": "stream",
     "text": [
      "Comparing fake: 13_1.nii  <-->  real: test-volume-13.nii\n"
     ]
    },
    {
     "name": "stderr",
     "output_type": "stream",
     "text": [
      "\r",
      "Evaluating:   7%|██▎                             | 5/70 [00:19<04:01,  3.71s/it]"
     ]
    },
    {
     "name": "stdout",
     "output_type": "stream",
     "text": [
      "Comparing fake: 14_1.nii  <-->  real: test-volume-14.nii\n"
     ]
    },
    {
     "name": "stderr",
     "output_type": "stream",
     "text": [
      "\r",
      "Evaluating:   9%|██▋                             | 6/70 [00:24<04:27,  4.18s/it]"
     ]
    },
    {
     "name": "stdout",
     "output_type": "stream",
     "text": [
      "Comparing fake: 15_1.nii  <-->  real: test-volume-15.nii\n"
     ]
    },
    {
     "name": "stderr",
     "output_type": "stream",
     "text": [
      "\r",
      "Evaluating:  10%|███▏                            | 7/70 [00:28<04:13,  4.03s/it]"
     ]
    },
    {
     "name": "stdout",
     "output_type": "stream",
     "text": [
      "Comparing fake: 16_1.nii  <-->  real: test-volume-16.nii\n"
     ]
    },
    {
     "name": "stderr",
     "output_type": "stream",
     "text": [
      "\r",
      "Evaluating:  11%|███▋                            | 8/70 [00:31<03:59,  3.86s/it]"
     ]
    },
    {
     "name": "stdout",
     "output_type": "stream",
     "text": [
      "Comparing fake: 17_1.nii  <-->  real: test-volume-17.nii\n"
     ]
    },
    {
     "name": "stderr",
     "output_type": "stream",
     "text": [
      "\r",
      "Evaluating:  13%|████                            | 9/70 [00:35<03:47,  3.73s/it]"
     ]
    },
    {
     "name": "stdout",
     "output_type": "stream",
     "text": [
      "Comparing fake: 18_1.nii  <-->  real: test-volume-18.nii\n"
     ]
    },
    {
     "name": "stderr",
     "output_type": "stream",
     "text": [
      "\r",
      "Evaluating:  14%|████▍                          | 10/70 [00:38<03:38,  3.64s/it]"
     ]
    },
    {
     "name": "stdout",
     "output_type": "stream",
     "text": [
      "Comparing fake: 19_1.nii  <-->  real: test-volume-19.nii\n"
     ]
    },
    {
     "name": "stderr",
     "output_type": "stream",
     "text": [
      "\r",
      "Evaluating:  16%|████▊                          | 11/70 [00:42<03:30,  3.56s/it]"
     ]
    },
    {
     "name": "stdout",
     "output_type": "stream",
     "text": [
      "Comparing fake: 1_1.nii  <-->  real: test-volume-1.nii\n"
     ]
    },
    {
     "name": "stderr",
     "output_type": "stream",
     "text": [
      "\r",
      "Evaluating:  17%|█████▎                         | 12/70 [00:45<03:24,  3.53s/it]"
     ]
    },
    {
     "name": "stdout",
     "output_type": "stream",
     "text": [
      "Comparing fake: 20_1.nii  <-->  real: test-volume-20.nii\n"
     ]
    },
    {
     "name": "stderr",
     "output_type": "stream",
     "text": [
      "\r",
      "Evaluating:  19%|█████▊                         | 13/70 [00:49<03:18,  3.49s/it]"
     ]
    },
    {
     "name": "stdout",
     "output_type": "stream",
     "text": [
      "Comparing fake: 21_1.nii  <-->  real: test-volume-21.nii\n"
     ]
    },
    {
     "name": "stderr",
     "output_type": "stream",
     "text": [
      "\r",
      "Evaluating:  20%|██████▏                        | 14/70 [00:52<03:14,  3.47s/it]"
     ]
    },
    {
     "name": "stdout",
     "output_type": "stream",
     "text": [
      "Comparing fake: 22_1.nii  <-->  real: test-volume-22.nii\n"
     ]
    },
    {
     "name": "stderr",
     "output_type": "stream",
     "text": [
      "\r",
      "Evaluating:  21%|██████▋                        | 15/70 [00:56<03:11,  3.48s/it]"
     ]
    },
    {
     "name": "stdout",
     "output_type": "stream",
     "text": [
      "Comparing fake: 23_1.nii  <-->  real: test-volume-23.nii\n"
     ]
    },
    {
     "name": "stderr",
     "output_type": "stream",
     "text": [
      "\r",
      "Evaluating:  23%|███████                        | 16/70 [00:59<03:07,  3.47s/it]"
     ]
    },
    {
     "name": "stdout",
     "output_type": "stream",
     "text": [
      "Comparing fake: 24_1.nii  <-->  real: test-volume-24.nii\n"
     ]
    },
    {
     "name": "stderr",
     "output_type": "stream",
     "text": [
      "\r",
      "Evaluating:  24%|███████▌                       | 17/70 [01:02<03:03,  3.46s/it]"
     ]
    },
    {
     "name": "stdout",
     "output_type": "stream",
     "text": [
      "Comparing fake: 25_1.nii  <-->  real: test-volume-25.nii\n"
     ]
    },
    {
     "name": "stderr",
     "output_type": "stream",
     "text": [
      "\r",
      "Evaluating:  26%|███████▉                       | 18/70 [01:06<02:59,  3.45s/it]"
     ]
    },
    {
     "name": "stdout",
     "output_type": "stream",
     "text": [
      "Comparing fake: 26_1.nii  <-->  real: test-volume-26.nii\n"
     ]
    },
    {
     "name": "stderr",
     "output_type": "stream",
     "text": [
      "\r",
      "Evaluating:  27%|████████▍                      | 19/70 [01:09<02:55,  3.45s/it]"
     ]
    },
    {
     "name": "stdout",
     "output_type": "stream",
     "text": [
      "Comparing fake: 27_1.nii  <-->  real: test-volume-27.nii\n"
     ]
    },
    {
     "name": "stderr",
     "output_type": "stream",
     "text": [
      "\r",
      "Evaluating:  29%|████████▊                      | 20/70 [01:14<03:16,  3.93s/it]"
     ]
    },
    {
     "name": "stdout",
     "output_type": "stream",
     "text": [
      "Comparing fake: 28_1.nii  <-->  real: test-volume-28.nii\n"
     ]
    },
    {
     "name": "stderr",
     "output_type": "stream",
     "text": [
      "\r",
      "Evaluating:  30%|█████████▎                     | 21/70 [01:18<03:07,  3.83s/it]"
     ]
    },
    {
     "name": "stdout",
     "output_type": "stream",
     "text": [
      "Comparing fake: 29_1.nii  <-->  real: test-volume-29.nii\n"
     ]
    },
    {
     "name": "stderr",
     "output_type": "stream",
     "text": [
      "\r",
      "Evaluating:  31%|█████████▋                     | 22/70 [01:21<02:59,  3.74s/it]"
     ]
    },
    {
     "name": "stdout",
     "output_type": "stream",
     "text": [
      "Comparing fake: 2_1.nii  <-->  real: test-volume-2.nii\n"
     ]
    },
    {
     "name": "stderr",
     "output_type": "stream",
     "text": [
      "\r",
      "Evaluating:  33%|██████████▏                    | 23/70 [01:25<02:51,  3.65s/it]"
     ]
    },
    {
     "name": "stdout",
     "output_type": "stream",
     "text": [
      "Comparing fake: 30_1.nii  <-->  real: test-volume-30.nii\n"
     ]
    },
    {
     "name": "stderr",
     "output_type": "stream",
     "text": [
      "\r",
      "Evaluating:  34%|██████████▋                    | 24/70 [01:28<02:42,  3.53s/it]"
     ]
    },
    {
     "name": "stdout",
     "output_type": "stream",
     "text": [
      "Comparing fake: 31_1.nii  <-->  real: test-volume-31.nii\n"
     ]
    },
    {
     "name": "stderr",
     "output_type": "stream",
     "text": [
      "\r",
      "Evaluating:  36%|███████████                    | 25/70 [01:31<02:34,  3.43s/it]"
     ]
    },
    {
     "name": "stdout",
     "output_type": "stream",
     "text": [
      "Comparing fake: 32_1.nii  <-->  real: test-volume-32.nii\n"
     ]
    },
    {
     "name": "stderr",
     "output_type": "stream",
     "text": [
      "\r",
      "Evaluating:  37%|███████████▌                   | 26/70 [01:35<02:27,  3.36s/it]"
     ]
    },
    {
     "name": "stdout",
     "output_type": "stream",
     "text": [
      "Comparing fake: 33_1.nii  <-->  real: test-volume-33.nii\n"
     ]
    },
    {
     "name": "stderr",
     "output_type": "stream",
     "text": [
      "\r",
      "Evaluating:  39%|███████████▉                   | 27/70 [01:38<02:22,  3.31s/it]"
     ]
    },
    {
     "name": "stdout",
     "output_type": "stream",
     "text": [
      "Comparing fake: 34_1.nii  <-->  real: test-volume-34.nii\n"
     ]
    },
    {
     "name": "stderr",
     "output_type": "stream",
     "text": [
      "\r",
      "Evaluating:  40%|████████████▍                  | 28/70 [01:41<02:17,  3.28s/it]"
     ]
    },
    {
     "name": "stdout",
     "output_type": "stream",
     "text": [
      "Comparing fake: 35_1.nii  <-->  real: test-volume-35.nii\n"
     ]
    },
    {
     "name": "stderr",
     "output_type": "stream",
     "text": [
      "\r",
      "Evaluating:  41%|████████████▊                  | 29/70 [01:44<02:13,  3.25s/it]"
     ]
    },
    {
     "name": "stdout",
     "output_type": "stream",
     "text": [
      "Comparing fake: 36_1.nii  <-->  real: test-volume-36.nii\n"
     ]
    },
    {
     "name": "stderr",
     "output_type": "stream",
     "text": [
      "\r",
      "Evaluating:  43%|█████████████▎                 | 30/70 [01:47<02:09,  3.23s/it]"
     ]
    },
    {
     "name": "stdout",
     "output_type": "stream",
     "text": [
      "Comparing fake: 37_1.nii  <-->  real: test-volume-37.nii\n"
     ]
    },
    {
     "name": "stderr",
     "output_type": "stream",
     "text": [
      "\r",
      "Evaluating:  44%|█████████████▋                 | 31/70 [01:50<02:05,  3.21s/it]"
     ]
    },
    {
     "name": "stdout",
     "output_type": "stream",
     "text": [
      "Comparing fake: 38_1.nii  <-->  real: test-volume-38.nii\n"
     ]
    },
    {
     "name": "stderr",
     "output_type": "stream",
     "text": [
      "\r",
      "Evaluating:  46%|██████████████▏                | 32/70 [01:54<02:01,  3.20s/it]"
     ]
    },
    {
     "name": "stdout",
     "output_type": "stream",
     "text": [
      "Comparing fake: 39_1.nii  <-->  real: test-volume-39.nii\n"
     ]
    },
    {
     "name": "stderr",
     "output_type": "stream",
     "text": [
      "\r",
      "Evaluating:  47%|██████████████▌                | 33/70 [01:57<01:58,  3.19s/it]"
     ]
    },
    {
     "name": "stdout",
     "output_type": "stream",
     "text": [
      "Comparing fake: 3_1.nii  <-->  real: test-volume-3.nii\n"
     ]
    },
    {
     "name": "stderr",
     "output_type": "stream",
     "text": [
      "\r",
      "Evaluating:  49%|███████████████                | 34/70 [02:00<01:54,  3.19s/it]"
     ]
    },
    {
     "name": "stdout",
     "output_type": "stream",
     "text": [
      "Comparing fake: 40_1.nii  <-->  real: test-volume-40.nii\n"
     ]
    },
    {
     "name": "stderr",
     "output_type": "stream",
     "text": [
      "\r",
      "Evaluating:  50%|███████████████▌               | 35/70 [02:03<01:51,  3.18s/it]"
     ]
    },
    {
     "name": "stdout",
     "output_type": "stream",
     "text": [
      "Comparing fake: 41_1.nii  <-->  real: test-volume-41.nii\n"
     ]
    },
    {
     "name": "stderr",
     "output_type": "stream",
     "text": [
      "\r",
      "Evaluating:  51%|███████████████▉               | 36/70 [02:06<01:48,  3.18s/it]"
     ]
    },
    {
     "name": "stdout",
     "output_type": "stream",
     "text": [
      "Comparing fake: 42_1.nii  <-->  real: test-volume-42.nii\n"
     ]
    },
    {
     "name": "stderr",
     "output_type": "stream",
     "text": [
      "\r",
      "Evaluating:  53%|████████████████▍              | 37/70 [02:10<01:44,  3.18s/it]"
     ]
    },
    {
     "name": "stdout",
     "output_type": "stream",
     "text": [
      "Comparing fake: 43_1.nii  <-->  real: test-volume-43.nii\n"
     ]
    },
    {
     "name": "stderr",
     "output_type": "stream",
     "text": [
      "\r",
      "Evaluating:  54%|████████████████▊              | 38/70 [02:13<01:41,  3.18s/it]"
     ]
    },
    {
     "name": "stdout",
     "output_type": "stream",
     "text": [
      "Comparing fake: 44_1.nii  <-->  real: test-volume-44.nii\n"
     ]
    },
    {
     "name": "stderr",
     "output_type": "stream",
     "text": [
      "\r",
      "Evaluating:  56%|█████████████████▎             | 39/70 [02:16<01:38,  3.18s/it]"
     ]
    },
    {
     "name": "stdout",
     "output_type": "stream",
     "text": [
      "Comparing fake: 45_1.nii  <-->  real: test-volume-45.nii\n"
     ]
    },
    {
     "name": "stderr",
     "output_type": "stream",
     "text": [
      "\r",
      "Evaluating:  57%|█████████████████▋             | 40/70 [02:19<01:35,  3.17s/it]"
     ]
    },
    {
     "name": "stdout",
     "output_type": "stream",
     "text": [
      "Comparing fake: 46_1.nii  <-->  real: test-volume-46.nii\n"
     ]
    },
    {
     "name": "stderr",
     "output_type": "stream",
     "text": [
      "\r",
      "Evaluating:  59%|██████████████████▏            | 41/70 [02:22<01:32,  3.17s/it]"
     ]
    },
    {
     "name": "stdout",
     "output_type": "stream",
     "text": [
      "Comparing fake: 47_1.nii  <-->  real: test-volume-47.nii\n"
     ]
    },
    {
     "name": "stderr",
     "output_type": "stream",
     "text": [
      "\r",
      "Evaluating:  60%|██████████████████▌            | 42/70 [02:25<01:28,  3.17s/it]"
     ]
    },
    {
     "name": "stdout",
     "output_type": "stream",
     "text": [
      "Comparing fake: 48_1.nii  <-->  real: test-volume-48.nii\n"
     ]
    },
    {
     "name": "stderr",
     "output_type": "stream",
     "text": [
      "\r",
      "Evaluating:  61%|███████████████████            | 43/70 [02:29<01:25,  3.17s/it]"
     ]
    },
    {
     "name": "stdout",
     "output_type": "stream",
     "text": [
      "Comparing fake: 49_1.nii  <-->  real: test-volume-49.nii\n"
     ]
    },
    {
     "name": "stderr",
     "output_type": "stream",
     "text": [
      "\r",
      "Evaluating:  63%|███████████████████▍           | 44/70 [02:32<01:22,  3.17s/it]"
     ]
    },
    {
     "name": "stdout",
     "output_type": "stream",
     "text": [
      "Comparing fake: 4_1.nii  <-->  real: test-volume-4.nii\n"
     ]
    },
    {
     "name": "stderr",
     "output_type": "stream",
     "text": [
      "\r",
      "Evaluating:  64%|███████████████████▉           | 45/70 [02:35<01:19,  3.17s/it]"
     ]
    },
    {
     "name": "stdout",
     "output_type": "stream",
     "text": [
      "Comparing fake: 50_1.nii  <-->  real: test-volume-50.nii\n"
     ]
    },
    {
     "name": "stderr",
     "output_type": "stream",
     "text": [
      "\r",
      "Evaluating:  66%|████████████████████▎          | 46/70 [02:38<01:16,  3.17s/it]"
     ]
    },
    {
     "name": "stdout",
     "output_type": "stream",
     "text": [
      "Comparing fake: 51_1.nii  <-->  real: test-volume-51.nii\n"
     ]
    },
    {
     "name": "stderr",
     "output_type": "stream",
     "text": [
      "\r",
      "Evaluating:  67%|████████████████████▊          | 47/70 [02:41<01:12,  3.17s/it]"
     ]
    },
    {
     "name": "stdout",
     "output_type": "stream",
     "text": [
      "Comparing fake: 52_1.nii  <-->  real: test-volume-52.nii\n"
     ]
    },
    {
     "name": "stderr",
     "output_type": "stream",
     "text": [
      "\r",
      "Evaluating:  69%|█████████████████████▎         | 48/70 [02:44<01:09,  3.17s/it]"
     ]
    },
    {
     "name": "stdout",
     "output_type": "stream",
     "text": [
      "Comparing fake: 53_1.nii  <-->  real: test-volume-53.nii\n"
     ]
    },
    {
     "name": "stderr",
     "output_type": "stream",
     "text": [
      "\r",
      "Evaluating:  70%|█████████████████████▋         | 49/70 [02:48<01:06,  3.17s/it]"
     ]
    },
    {
     "name": "stdout",
     "output_type": "stream",
     "text": [
      "Comparing fake: 54_1.nii  <-->  real: test-volume-54.nii\n"
     ]
    },
    {
     "name": "stderr",
     "output_type": "stream",
     "text": [
      "\r",
      "Evaluating:  71%|██████████████████████▏        | 50/70 [02:51<01:03,  3.18s/it]"
     ]
    },
    {
     "name": "stdout",
     "output_type": "stream",
     "text": [
      "Comparing fake: 55_1.nii  <-->  real: test-volume-55.nii\n"
     ]
    },
    {
     "name": "stderr",
     "output_type": "stream",
     "text": [
      "\r",
      "Evaluating:  73%|██████████████████████▌        | 51/70 [02:54<01:00,  3.18s/it]"
     ]
    },
    {
     "name": "stdout",
     "output_type": "stream",
     "text": [
      "Comparing fake: 56_1.nii  <-->  real: test-volume-56.nii\n"
     ]
    },
    {
     "name": "stderr",
     "output_type": "stream",
     "text": [
      "\r",
      "Evaluating:  74%|███████████████████████        | 52/70 [02:57<00:57,  3.18s/it]"
     ]
    },
    {
     "name": "stdout",
     "output_type": "stream",
     "text": [
      "Comparing fake: 57_1.nii  <-->  real: test-volume-57.nii\n"
     ]
    },
    {
     "name": "stderr",
     "output_type": "stream",
     "text": [
      "\r",
      "Evaluating:  76%|███████████████████████▍       | 53/70 [03:00<00:53,  3.17s/it]"
     ]
    },
    {
     "name": "stdout",
     "output_type": "stream",
     "text": [
      "Comparing fake: 58_1.nii  <-->  real: test-volume-58.nii\n"
     ]
    },
    {
     "name": "stderr",
     "output_type": "stream",
     "text": [
      "\r",
      "Evaluating:  77%|███████████████████████▉       | 54/70 [03:03<00:50,  3.17s/it]"
     ]
    },
    {
     "name": "stdout",
     "output_type": "stream",
     "text": [
      "Comparing fake: 59_1.nii  <-->  real: test-volume-59.nii\n"
     ]
    },
    {
     "name": "stderr",
     "output_type": "stream",
     "text": [
      "\r",
      "Evaluating:  79%|████████████████████████▎      | 55/70 [03:07<00:47,  3.17s/it]"
     ]
    },
    {
     "name": "stdout",
     "output_type": "stream",
     "text": [
      "Comparing fake: 5_1.nii  <-->  real: test-volume-5.nii\n"
     ]
    },
    {
     "name": "stderr",
     "output_type": "stream",
     "text": [
      "\r",
      "Evaluating:  80%|████████████████████████▊      | 56/70 [03:10<00:44,  3.17s/it]"
     ]
    },
    {
     "name": "stdout",
     "output_type": "stream",
     "text": [
      "Comparing fake: 60_1.nii  <-->  real: test-volume-60.nii\n"
     ]
    },
    {
     "name": "stderr",
     "output_type": "stream",
     "text": [
      "\r",
      "Evaluating:  81%|█████████████████████████▏     | 57/70 [03:13<00:41,  3.17s/it]"
     ]
    },
    {
     "name": "stdout",
     "output_type": "stream",
     "text": [
      "Comparing fake: 61_1.nii  <-->  real: test-volume-61.nii\n"
     ]
    },
    {
     "name": "stderr",
     "output_type": "stream",
     "text": [
      "\r",
      "Evaluating:  83%|█████████████████████████▋     | 58/70 [03:16<00:38,  3.17s/it]"
     ]
    },
    {
     "name": "stdout",
     "output_type": "stream",
     "text": [
      "Comparing fake: 62_1.nii  <-->  real: test-volume-62.nii\n"
     ]
    },
    {
     "name": "stderr",
     "output_type": "stream",
     "text": [
      "\r",
      "Evaluating:  84%|██████████████████████████▏    | 59/70 [03:19<00:34,  3.17s/it]"
     ]
    },
    {
     "name": "stdout",
     "output_type": "stream",
     "text": [
      "Comparing fake: 63_1.nii  <-->  real: test-volume-63.nii\n"
     ]
    },
    {
     "name": "stderr",
     "output_type": "stream",
     "text": [
      "\r",
      "Evaluating:  86%|██████████████████████████▌    | 60/70 [03:22<00:31,  3.17s/it]"
     ]
    },
    {
     "name": "stdout",
     "output_type": "stream",
     "text": [
      "Comparing fake: 64_1.nii  <-->  real: test-volume-64.nii\n"
     ]
    },
    {
     "name": "stderr",
     "output_type": "stream",
     "text": [
      "\r",
      "Evaluating:  87%|███████████████████████████    | 61/70 [03:26<00:28,  3.17s/it]"
     ]
    },
    {
     "name": "stdout",
     "output_type": "stream",
     "text": [
      "Comparing fake: 65_1.nii  <-->  real: test-volume-65.nii\n"
     ]
    },
    {
     "name": "stderr",
     "output_type": "stream",
     "text": [
      "\r",
      "Evaluating:  89%|███████████████████████████▍   | 62/70 [03:29<00:25,  3.17s/it]"
     ]
    },
    {
     "name": "stdout",
     "output_type": "stream",
     "text": [
      "Comparing fake: 66_1.nii  <-->  real: test-volume-66.nii\n"
     ]
    },
    {
     "name": "stderr",
     "output_type": "stream",
     "text": [
      "\r",
      "Evaluating:  90%|███████████████████████████▉   | 63/70 [03:32<00:22,  3.17s/it]"
     ]
    },
    {
     "name": "stdout",
     "output_type": "stream",
     "text": [
      "Comparing fake: 67_1.nii  <-->  real: test-volume-67.nii\n"
     ]
    },
    {
     "name": "stderr",
     "output_type": "stream",
     "text": [
      "\r",
      "Evaluating:  91%|████████████████████████████▎  | 64/70 [03:35<00:19,  3.17s/it]"
     ]
    },
    {
     "name": "stdout",
     "output_type": "stream",
     "text": [
      "Comparing fake: 68_1.nii  <-->  real: test-volume-68.nii\n"
     ]
    },
    {
     "name": "stderr",
     "output_type": "stream",
     "text": [
      "\r",
      "Evaluating:  93%|████████████████████████████▊  | 65/70 [03:38<00:15,  3.17s/it]"
     ]
    },
    {
     "name": "stdout",
     "output_type": "stream",
     "text": [
      "Comparing fake: 69_1.nii  <-->  real: test-volume-69.nii\n"
     ]
    },
    {
     "name": "stderr",
     "output_type": "stream",
     "text": [
      "\r",
      "Evaluating:  94%|█████████████████████████████▏ | 66/70 [03:42<00:12,  3.17s/it]"
     ]
    },
    {
     "name": "stdout",
     "output_type": "stream",
     "text": [
      "Comparing fake: 6_1.nii  <-->  real: test-volume-6.nii\n"
     ]
    },
    {
     "name": "stderr",
     "output_type": "stream",
     "text": [
      "\r",
      "Evaluating:  96%|█████████████████████████████▋ | 67/70 [03:45<00:09,  3.17s/it]"
     ]
    },
    {
     "name": "stdout",
     "output_type": "stream",
     "text": [
      "Comparing fake: 7_1.nii  <-->  real: test-volume-7.nii\n"
     ]
    },
    {
     "name": "stderr",
     "output_type": "stream",
     "text": [
      "\r",
      "Evaluating:  97%|██████████████████████████████ | 68/70 [03:48<00:06,  3.17s/it]"
     ]
    },
    {
     "name": "stdout",
     "output_type": "stream",
     "text": [
      "Comparing fake: 8_1.nii  <-->  real: test-volume-8.nii\n"
     ]
    },
    {
     "name": "stderr",
     "output_type": "stream",
     "text": [
      "\r",
      "Evaluating:  99%|██████████████████████████████▌| 69/70 [03:51<00:03,  3.17s/it]"
     ]
    },
    {
     "name": "stdout",
     "output_type": "stream",
     "text": [
      "Comparing fake: 9_1.nii  <-->  real: test-volume-9.nii\n"
     ]
    },
    {
     "name": "stderr",
     "output_type": "stream",
     "text": [
      "Evaluating: 100%|███████████████████████████████| 70/70 [03:54<00:00,  3.35s/it]"
     ]
    },
    {
     "name": "stdout",
     "output_type": "stream",
     "text": [
      "\n",
      "✅ Saved metrics to Excel: ./testsimilarity_metrics.xlsx\n"
     ]
    },
    {
     "name": "stderr",
     "output_type": "stream",
     "text": [
      "\n"
     ]
    }
   ],
   "source": [
    "if __name__ == \"__main__\":\n",
    "    fake_dir = 'exports/enhanced'\n",
    "    real_dir = '../../dataset/TESTCTALIGNED'\n",
    "    output_excel = './testsimilarity_metrics.xlsx'\n",
    "    \n",
    "    results = evaluate_all(fake_dir,real_dir)\n",
    "    df = save_metrics_to_excel(results,output_excel)"
   ]
  },
  {
   "cell_type": "code",
   "execution_count": null,
   "id": "b43fdfc3",
   "metadata": {},
   "outputs": [],
   "source": []
  },
  {
   "cell_type": "code",
   "execution_count": null,
   "id": "5eb427de",
   "metadata": {},
   "outputs": [],
   "source": [
    "\n",
    "\n"
   ]
  },
  {
   "cell_type": "code",
   "execution_count": null,
   "id": "5058d818",
   "metadata": {},
   "outputs": [],
   "source": []
  },
  {
   "cell_type": "code",
   "execution_count": null,
   "id": "82f2b1e7",
   "metadata": {},
   "outputs": [],
   "source": []
  }
 ],
 "metadata": {
  "kernelspec": {
   "display_name": "Python (cbct_env)",
   "language": "python",
   "name": "cbct_env"
  },
  "language_info": {
   "codemirror_mode": {
    "name": "ipython",
    "version": 3
   },
   "file_extension": ".py",
   "mimetype": "text/x-python",
   "name": "python",
   "nbconvert_exporter": "python",
   "pygments_lexer": "ipython3",
   "version": "3.10.12"
  }
 },
 "nbformat": 4,
 "nbformat_minor": 5
}
