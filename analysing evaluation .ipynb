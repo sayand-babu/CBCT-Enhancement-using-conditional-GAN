{
 "cells": [
  {
   "cell_type": "code",
   "execution_count": 1,
   "id": "00458e65",
   "metadata": {},
   "outputs": [],
   "source": [
    "import pandas as pd\n",
    "\n",
    "def get_similarity_metric_means(excel_path):\n",
    "    \"\"\"\n",
    "    Reads an Excel file containing similarity metrics and returns\n",
    "    the mean values of SSIM, PSNR, MAE, and MSE.\n",
    "\n",
    "    Parameters:\n",
    "        excel_path (str): Path to the Excel file.\n",
    "\n",
    "    Returns:\n",
    "        dict: Dictionary with mean values of each metric.\n",
    "    \"\"\"\n",
    "    df = pd.read_excel(excel_path)\n",
    "    metric_columns = ['SSIM', 'PSNR', 'MAE', 'MSE']\n",
    "\n",
    "    # Check if required columns are present\n",
    "    for col in metric_columns:\n",
    "        if col not in df.columns:\n",
    "            raise ValueError(f\"Column '{col}' not found in the Excel file.\")\n",
    "\n",
    "    # Calculate mean for each metric\n",
    "    mean_values = df[metric_columns].mean().to_dict()\n",
    "\n",
    "    # Round results for readability\n",
    "    mean_values = {k: round(v, 4) for k, v in mean_values.items()}\n",
    "\n",
    "    return mean_values\n",
    "\n",
    "# Example usage:\n",
    "# metrics = get_similarity_metric_means(\"testsimilarity_metrics.xlsx\")\n",
    "# print(metrics)\n",
    "\n"
   ]
  },
  {
   "cell_type": "code",
   "execution_count": 2,
   "id": "5c8b26e8",
   "metadata": {},
   "outputs": [
    {
     "name": "stdout",
     "output_type": "stream",
     "text": [
      "{'SSIM': 0.5924, 'PSNR': 15.8656, 'MAE': 0.1578, 'MSE': 0.0312}\n"
     ]
    }
   ],
   "source": [
    "metrics = get_similarity_metric_means(\"similarity _data/cbct_ct similarity test.xlsx\")\n",
    "print(metrics)"
   ]
  },
  {
   "cell_type": "code",
   "execution_count": 3,
   "id": "b2d98120",
   "metadata": {},
   "outputs": [
    {
     "name": "stdout",
     "output_type": "stream",
     "text": [
      "{'SSIM': 0.5924, 'PSNR': 15.8656, 'MAE': 0.1578, 'MSE': 0.0312}\n"
     ]
    }
   ],
   "source": [
    "metrics = get_similarity_metric_means(\"similarity _data/similarity testcbct_ct.xlsx\")\n",
    "print(metrics)"
   ]
  },
  {
   "cell_type": "code",
   "execution_count": 5,
   "id": "7a0dd83a",
   "metadata": {},
   "outputs": [
    {
     "name": "stdout",
     "output_type": "stream",
     "text": [
      "{'SSIM': 0.5963, 'PSNR': 13.3826, 'MAE': 0.1967, 'MSE': 0.0534}\n"
     ]
    }
   ],
   "source": [
    "metrics = get_similarity_metric_means(\"similarity _data/gan_model 5_testsimilarity_metrics.xlsx\")\n",
    "print(metrics)"
   ]
  },
  {
   "cell_type": "code",
   "execution_count": 6,
   "id": "e8c7ea95",
   "metadata": {},
   "outputs": [
    {
     "name": "stdout",
     "output_type": "stream",
     "text": [
      "{'SSIM': 0.3382, 'PSNR': 8.8664, 'MAE': 0.3252, 'MSE': 0.1353}\n"
     ]
    }
   ],
   "source": [
    "metrics = get_similarity_metric_means(\"similarity _data/gan _model6_testsimilarity_metrics.xlsx\")\n",
    "print(metrics)"
   ]
  },
  {
   "cell_type": "code",
   "execution_count": 7,
   "id": "6a8fa05d",
   "metadata": {},
   "outputs": [
    {
     "name": "stdout",
     "output_type": "stream",
     "text": [
      "{'SSIM': 0.5395, 'PSNR': 17.2986, 'MAE': 0.1059, 'MSE': 0.021}\n"
     ]
    }
   ],
   "source": [
    "metrics = get_similarity_metric_means(\"similarity _data/gan model3_testsimilarity_metrics.xlsx\")\n",
    "print(metrics)"
   ]
  },
  {
   "cell_type": "code",
   "execution_count": 8,
   "id": "f18c7d0f",
   "metadata": {},
   "outputs": [
    {
     "name": "stdout",
     "output_type": "stream",
     "text": [
      "{'SSIM': 0.0045, 'PSNR': 6.5697, 'MAE': 0.3964, 'MSE': 0.2219}\n"
     ]
    }
   ],
   "source": [
    "metrics = get_similarity_metric_means(\"similarity _data/ddpm_testsimilarity_metrics.xlsx\")\n",
    "print(metrics)"
   ]
  },
  {
   "cell_type": "code",
   "execution_count": null,
   "id": "06ada5d7",
   "metadata": {},
   "outputs": [],
   "source": []
  }
 ],
 "metadata": {
  "kernelspec": {
   "display_name": "Python (cbct_env)",
   "language": "python",
   "name": "cbct_env"
  },
  "language_info": {
   "codemirror_mode": {
    "name": "ipython",
    "version": 3
   },
   "file_extension": ".py",
   "mimetype": "text/x-python",
   "name": "python",
   "nbconvert_exporter": "python",
   "pygments_lexer": "ipython3",
   "version": "3.10.12"
  }
 },
 "nbformat": 4,
 "nbformat_minor": 5
}
